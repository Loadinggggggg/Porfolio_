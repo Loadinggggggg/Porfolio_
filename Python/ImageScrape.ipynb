{
 "cells": [
  {
   "cell_type": "markdown",
   "id": "8c9f88f8",
   "metadata": {},
   "source": [
    "# ImageScrape"
   ]
  },
  {
   "cell_type": "code",
   "execution_count": 4,
   "id": "0bd047e2",
   "metadata": {},
   "outputs": [],
   "source": [
    "import requests\n",
    "from bs4 import BeautifulSoup\n",
    "import os\n",
    "from urllib.parse import urljoin\n",
    "from datetime import datetime"
   ]
  },
  {
   "cell_type": "markdown",
   "id": "cd899666",
   "metadata": {},
   "source": [
    "The following two cells contain two different versions of the same code, aiming to download images from a specified web page URL and save them to a local folder. The second version enhances file naming to avoid overwriting previous files. Both codes are popular and can be considered useful tools for quick data gathering."
   ]
  },
  {
   "cell_type": "code",
   "execution_count": 1,
   "id": "eedd6913",
   "metadata": {},
   "outputs": [
    {
     "name": "stdout",
     "output_type": "stream",
     "text": [
      "Saved: /Users/liliamarzougui/Desktop/Folder/image_0.jpg\n",
      "Saved: /Users/liliamarzougui/Desktop/Folder/image_1.jpg\n",
      "Saved: /Users/liliamarzougui/Desktop/Folder/image_2.jpg\n",
      "Saved: /Users/liliamarzougui/Desktop/Folder/image_3.jpg\n",
      "Saved: /Users/liliamarzougui/Desktop/Folder/image_4.jpg\n",
      "Saved: /Users/liliamarzougui/Desktop/Folder/image_5.jpg\n",
      "Saved: /Users/liliamarzougui/Desktop/Folder/image_6.jpg\n",
      "Saved: /Users/liliamarzougui/Desktop/Folder/image_7.jpg\n",
      "Saved: /Users/liliamarzougui/Desktop/Folder/image_8.jpg\n",
      "Saved: /Users/liliamarzougui/Desktop/Folder/image_9.jpg\n",
      "Saved: /Users/liliamarzougui/Desktop/Folder/image_10.jpg\n",
      "Saved: /Users/liliamarzougui/Desktop/Folder/image_11.jpg\n",
      "Saved: /Users/liliamarzougui/Desktop/Folder/image_12.jpg\n",
      "Saved: /Users/liliamarzougui/Desktop/Folder/image_13.jpg\n",
      "Saved: /Users/liliamarzougui/Desktop/Folder/image_14.jpg\n",
      "Saved: /Users/liliamarzougui/Desktop/Folder/image_15.jpg\n",
      "Saved: /Users/liliamarzougui/Desktop/Folder/image_16.jpg\n",
      "Saved: /Users/liliamarzougui/Desktop/Folder/image_17.jpg\n",
      "Saved: /Users/liliamarzougui/Desktop/Folder/image_18.jpg\n",
      "Saved: /Users/liliamarzougui/Desktop/Folder/image_19.jpg\n",
      "Saved: /Users/liliamarzougui/Desktop/Folder/image_20.jpg\n"
     ]
    }
   ],
   "source": [
    "def download_images(url, folder_path):\n",
    "    # Make a request to the URL\n",
    "    response = requests.get(url)\n",
    "\n",
    "    # Check if the request was successful (status code 200)\n",
    "    if response.status_code == 200:\n",
    "        soup = BeautifulSoup(response.text, 'html.parser')\n",
    "\n",
    "        # Find all image tags\n",
    "        img_tags = soup.find_all('img')\n",
    "\n",
    "        # Create a folder for the images if it doesn't exist\n",
    "        if not os.path.exists(folder_path):\n",
    "            os.makedirs(folder_path)\n",
    "\n",
    "        # Download each image\n",
    "        for img_tag in img_tags:\n",
    "            img_url = img_tag.get('src')\n",
    "\n",
    "            # If the image URL is relative, make it absolute\n",
    "            img_url = urljoin(url, img_url)\n",
    "\n",
    "            # Get the image content\n",
    "            img_data = requests.get(img_url).content\n",
    "\n",
    "            # Save the image to the folder\n",
    "            img_name = os.path.join(folder_path, f'image_{img_tags.index(img_tag)}.jpg')\n",
    "            with open(img_name, 'wb') as img_file:\n",
    "                img_file.write(img_data)\n",
    "                print(f'Saved: {img_name}')\n",
    "    else:\n",
    "        print(f'Failed to retrieve the web page. Status Code: {response.status_code}')\n",
    "\n",
    "# Specify the URL of the web page you want to scrape images from\n",
    "url_to_scrape = 'https://www.google.com/search?client=safari&sca_esv=589042230&sxsrf=AM9HkKkdg3jRbXOmbcIsCxk4DIxStjVCHw:1702031156725&q=paintings+of+medieval+period&tbm=isch&source=lnms&sa=X&ved=2ahUKEwjP0_iT0P-CAxVVcfEDHVKKALAQ0pQJegQIDRAB&biw=1440&bih=820&dpr=2'\n",
    "\n",
    "# Specify the folder where you want to save the images\n",
    "output_folder = '/Users/liliamarzougui/Desktop/Folder'\n",
    "\n",
    "download_images(url_to_scrape, output_folder)"
   ]
  },
  {
   "cell_type": "code",
   "execution_count": 5,
   "id": "0e99d661",
   "metadata": {},
   "outputs": [
    {
     "name": "stdout",
     "output_type": "stream",
     "text": [
      "Saved: /Users/liliamarzougui/Desktop/CrackInsta/image_20231210000502680615.jpg\n",
      "Saved: /Users/liliamarzougui/Desktop/CrackInsta/image_20231210000502839802.jpg\n",
      "Saved: /Users/liliamarzougui/Desktop/CrackInsta/image_20231210000502972914.jpg\n",
      "Saved: /Users/liliamarzougui/Desktop/CrackInsta/image_20231210000503110738.jpg\n",
      "Saved: /Users/liliamarzougui/Desktop/CrackInsta/image_20231210000503265935.jpg\n",
      "Saved: /Users/liliamarzougui/Desktop/CrackInsta/image_20231210000503396285.jpg\n",
      "Saved: /Users/liliamarzougui/Desktop/CrackInsta/image_20231210000503524651.jpg\n",
      "Saved: /Users/liliamarzougui/Desktop/CrackInsta/image_20231210000503647156.jpg\n",
      "Saved: /Users/liliamarzougui/Desktop/CrackInsta/image_20231210000503782125.jpg\n",
      "Saved: /Users/liliamarzougui/Desktop/CrackInsta/image_20231210000503908602.jpg\n",
      "Saved: /Users/liliamarzougui/Desktop/CrackInsta/image_20231210000504037668.jpg\n",
      "Saved: /Users/liliamarzougui/Desktop/CrackInsta/image_20231210000504182775.jpg\n",
      "Saved: /Users/liliamarzougui/Desktop/CrackInsta/image_20231210000504336046.jpg\n",
      "Saved: /Users/liliamarzougui/Desktop/CrackInsta/image_20231210000504461356.jpg\n",
      "Saved: /Users/liliamarzougui/Desktop/CrackInsta/image_20231210000504593444.jpg\n",
      "Saved: /Users/liliamarzougui/Desktop/CrackInsta/image_20231210000504717084.jpg\n",
      "Saved: /Users/liliamarzougui/Desktop/CrackInsta/image_20231210000504849039.jpg\n",
      "Saved: /Users/liliamarzougui/Desktop/CrackInsta/image_20231210000505003448.jpg\n",
      "Saved: /Users/liliamarzougui/Desktop/CrackInsta/image_20231210000505140071.jpg\n",
      "Saved: /Users/liliamarzougui/Desktop/CrackInsta/image_20231210000505280195.jpg\n",
      "Saved: /Users/liliamarzougui/Desktop/CrackInsta/image_20231210000505419945.jpg\n"
     ]
    }
   ],
   "source": [
    "def download_images(url, folder_path):\n",
    "    # Make a request to the URL\n",
    "    response = requests.get(url)\n",
    "\n",
    "    # Check if the request was successful (status code 200)\n",
    "    if response.status_code == 200:\n",
    "        soup = BeautifulSoup(response.text, 'html.parser')\n",
    "\n",
    "        # Find all image tags\n",
    "        img_tags = soup.find_all('img')\n",
    "\n",
    "        # Create a folder for the images if it doesn't exist\n",
    "        if not os.path.exists(folder_path):\n",
    "            os.makedirs(folder_path)\n",
    "\n",
    "        # Download each image\n",
    "        for img_tag in img_tags:\n",
    "            img_url = img_tag.get('src')\n",
    "\n",
    "            # If the image URL is relative, make it absolute\n",
    "            img_url = urljoin(url, img_url)\n",
    "\n",
    "            # Get the image content\n",
    "            img_data = requests.get(img_url).content\n",
    "\n",
    "            # Generate a unique filename based on the current timestamp\n",
    "            timestamp = datetime.now().strftime(\"%Y%m%d%H%M%S%f\")\n",
    "            img_name = os.path.join(folder_path, f'image_{timestamp}.jpg')\n",
    "\n",
    "            # Save the image to the folder\n",
    "            with open(img_name, 'wb') as img_file:\n",
    "                img_file.write(img_data)\n",
    "                print(f'Saved: {img_name}')\n",
    "    else:\n",
    "        print(f'Failed to retrieve the web page. Status Code: {response.status_code}')\n",
    "\n",
    "# Specify the URL of the web page you want to scrape images from\n",
    "url_to_scrape = 'https://www.google.com/search?client=safari&sca_esv=589042230&sxsrf=AM9HkKkdg3jRbXOmbcIsCxk4DIxStjVCHw:1702031156725&q=paintings+of+medieval+period&tbm=isch&source=lnms&sa=X&ved=2ahUKEwjP0_iT0P-CAxVVcfEDHVKKALAQ0pQJegQIDRAB&biw=1440&bih=820&dpr=2'\n",
    "\n",
    "# Specify the folder where you want to save the images\n",
    "output_folder = '/Users/liliamarzougui/Desktop/CrackInsta'\n",
    "\n",
    "download_images(url_to_scrape, output_folder)"
   ]
  }
 ],
 "metadata": {
  "kernelspec": {
   "display_name": "Python 3 (ipykernel)",
   "language": "python",
   "name": "python3"
  },
  "language_info": {
   "codemirror_mode": {
    "name": "ipython",
    "version": 3
   },
   "file_extension": ".py",
   "mimetype": "text/x-python",
   "name": "python",
   "nbconvert_exporter": "python",
   "pygments_lexer": "ipython3",
   "version": "3.9.16"
  }
 },
 "nbformat": 4,
 "nbformat_minor": 5
}
